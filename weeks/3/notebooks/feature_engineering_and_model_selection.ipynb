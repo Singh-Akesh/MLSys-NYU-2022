{
 "cells": [
  {
   "cell_type": "code",
   "execution_count": 2,
   "id": "eb62860f-5274-40a4-ad0c-8016ca344584",
   "metadata": {},
   "outputs": [],
   "source": [
    "import matplotlib.pyplot as plt\n",
    "import numpy as np\n",
    "import pandas as pd\n",
    "\n",
    "%config InlineBackend.figure_format = 'retina'"
   ]
  },
  {
   "cell_type": "code",
   "execution_count": 4,
   "id": "92ba4034-4597-49cd-8470-4e8ea9bd00ed",
   "metadata": {},
   "outputs": [],
   "source": [
    "plt.rcParams[\"axes.spines.right\"] = False\n",
    "plt.rcParams[\"axes.spines.top\"] = False"
   ]
  },
  {
   "cell_type": "code",
   "execution_count": 6,
   "id": "af2449db-20ea-4c20-96bc-020e0393be6b",
   "metadata": {},
   "outputs": [],
   "source": [
    "RANDOM_SEED = 666"
   ]
  },
  {
   "cell_type": "code",
   "execution_count": 7,
   "id": "fc405de4-1d5c-4c1b-a304-7b1dde4cbd29",
   "metadata": {},
   "outputs": [
    {
     "data": {
      "text/html": [
       "<div>\n",
       "<style scoped>\n",
       "    .dataframe tbody tr th:only-of-type {\n",
       "        vertical-align: middle;\n",
       "    }\n",
       "\n",
       "    .dataframe tbody tr th {\n",
       "        vertical-align: top;\n",
       "    }\n",
       "\n",
       "    .dataframe thead th {\n",
       "        text-align: right;\n",
       "    }\n",
       "</style>\n",
       "<table border=\"1\" class=\"dataframe\">\n",
       "  <thead>\n",
       "    <tr style=\"text-align: right;\">\n",
       "      <th></th>\n",
       "      <th>Id</th>\n",
       "      <th>MSSubClass</th>\n",
       "      <th>MSZoning</th>\n",
       "      <th>LotFrontage</th>\n",
       "      <th>LotArea</th>\n",
       "      <th>Street</th>\n",
       "      <th>Alley</th>\n",
       "      <th>LotShape</th>\n",
       "      <th>LandContour</th>\n",
       "      <th>Utilities</th>\n",
       "      <th>...</th>\n",
       "      <th>PoolArea</th>\n",
       "      <th>PoolQC</th>\n",
       "      <th>Fence</th>\n",
       "      <th>MiscFeature</th>\n",
       "      <th>MiscVal</th>\n",
       "      <th>MoSold</th>\n",
       "      <th>YrSold</th>\n",
       "      <th>SaleType</th>\n",
       "      <th>SaleCondition</th>\n",
       "      <th>SalePrice</th>\n",
       "    </tr>\n",
       "  </thead>\n",
       "  <tbody>\n",
       "    <tr>\n",
       "      <th>0</th>\n",
       "      <td>1</td>\n",
       "      <td>60</td>\n",
       "      <td>RL</td>\n",
       "      <td>65.0</td>\n",
       "      <td>8450</td>\n",
       "      <td>Pave</td>\n",
       "      <td>NaN</td>\n",
       "      <td>Reg</td>\n",
       "      <td>Lvl</td>\n",
       "      <td>AllPub</td>\n",
       "      <td>...</td>\n",
       "      <td>0</td>\n",
       "      <td>NaN</td>\n",
       "      <td>NaN</td>\n",
       "      <td>NaN</td>\n",
       "      <td>0</td>\n",
       "      <td>2</td>\n",
       "      <td>2008</td>\n",
       "      <td>WD</td>\n",
       "      <td>Normal</td>\n",
       "      <td>208500</td>\n",
       "    </tr>\n",
       "    <tr>\n",
       "      <th>1</th>\n",
       "      <td>2</td>\n",
       "      <td>20</td>\n",
       "      <td>RL</td>\n",
       "      <td>80.0</td>\n",
       "      <td>9600</td>\n",
       "      <td>Pave</td>\n",
       "      <td>NaN</td>\n",
       "      <td>Reg</td>\n",
       "      <td>Lvl</td>\n",
       "      <td>AllPub</td>\n",
       "      <td>...</td>\n",
       "      <td>0</td>\n",
       "      <td>NaN</td>\n",
       "      <td>NaN</td>\n",
       "      <td>NaN</td>\n",
       "      <td>0</td>\n",
       "      <td>5</td>\n",
       "      <td>2007</td>\n",
       "      <td>WD</td>\n",
       "      <td>Normal</td>\n",
       "      <td>181500</td>\n",
       "    </tr>\n",
       "    <tr>\n",
       "      <th>2</th>\n",
       "      <td>3</td>\n",
       "      <td>60</td>\n",
       "      <td>RL</td>\n",
       "      <td>68.0</td>\n",
       "      <td>11250</td>\n",
       "      <td>Pave</td>\n",
       "      <td>NaN</td>\n",
       "      <td>IR1</td>\n",
       "      <td>Lvl</td>\n",
       "      <td>AllPub</td>\n",
       "      <td>...</td>\n",
       "      <td>0</td>\n",
       "      <td>NaN</td>\n",
       "      <td>NaN</td>\n",
       "      <td>NaN</td>\n",
       "      <td>0</td>\n",
       "      <td>9</td>\n",
       "      <td>2008</td>\n",
       "      <td>WD</td>\n",
       "      <td>Normal</td>\n",
       "      <td>223500</td>\n",
       "    </tr>\n",
       "    <tr>\n",
       "      <th>3</th>\n",
       "      <td>4</td>\n",
       "      <td>70</td>\n",
       "      <td>RL</td>\n",
       "      <td>60.0</td>\n",
       "      <td>9550</td>\n",
       "      <td>Pave</td>\n",
       "      <td>NaN</td>\n",
       "      <td>IR1</td>\n",
       "      <td>Lvl</td>\n",
       "      <td>AllPub</td>\n",
       "      <td>...</td>\n",
       "      <td>0</td>\n",
       "      <td>NaN</td>\n",
       "      <td>NaN</td>\n",
       "      <td>NaN</td>\n",
       "      <td>0</td>\n",
       "      <td>2</td>\n",
       "      <td>2006</td>\n",
       "      <td>WD</td>\n",
       "      <td>Abnorml</td>\n",
       "      <td>140000</td>\n",
       "    </tr>\n",
       "    <tr>\n",
       "      <th>4</th>\n",
       "      <td>5</td>\n",
       "      <td>60</td>\n",
       "      <td>RL</td>\n",
       "      <td>84.0</td>\n",
       "      <td>14260</td>\n",
       "      <td>Pave</td>\n",
       "      <td>NaN</td>\n",
       "      <td>IR1</td>\n",
       "      <td>Lvl</td>\n",
       "      <td>AllPub</td>\n",
       "      <td>...</td>\n",
       "      <td>0</td>\n",
       "      <td>NaN</td>\n",
       "      <td>NaN</td>\n",
       "      <td>NaN</td>\n",
       "      <td>0</td>\n",
       "      <td>12</td>\n",
       "      <td>2008</td>\n",
       "      <td>WD</td>\n",
       "      <td>Normal</td>\n",
       "      <td>250000</td>\n",
       "    </tr>\n",
       "  </tbody>\n",
       "</table>\n",
       "<p>5 rows × 81 columns</p>\n",
       "</div>"
      ],
      "text/plain": [
       "   Id  MSSubClass MSZoning  LotFrontage  LotArea Street Alley LotShape  \\\n",
       "0   1          60       RL         65.0     8450   Pave   NaN      Reg   \n",
       "1   2          20       RL         80.0     9600   Pave   NaN      Reg   \n",
       "2   3          60       RL         68.0    11250   Pave   NaN      IR1   \n",
       "3   4          70       RL         60.0     9550   Pave   NaN      IR1   \n",
       "4   5          60       RL         84.0    14260   Pave   NaN      IR1   \n",
       "\n",
       "  LandContour Utilities  ... PoolArea PoolQC Fence MiscFeature MiscVal MoSold  \\\n",
       "0         Lvl    AllPub  ...        0    NaN   NaN         NaN       0      2   \n",
       "1         Lvl    AllPub  ...        0    NaN   NaN         NaN       0      5   \n",
       "2         Lvl    AllPub  ...        0    NaN   NaN         NaN       0      9   \n",
       "3         Lvl    AllPub  ...        0    NaN   NaN         NaN       0      2   \n",
       "4         Lvl    AllPub  ...        0    NaN   NaN         NaN       0     12   \n",
       "\n",
       "  YrSold  SaleType  SaleCondition  SalePrice  \n",
       "0   2008        WD         Normal     208500  \n",
       "1   2007        WD         Normal     181500  \n",
       "2   2008        WD         Normal     223500  \n",
       "3   2006        WD        Abnorml     140000  \n",
       "4   2008        WD         Normal     250000  \n",
       "\n",
       "[5 rows x 81 columns]"
      ]
     },
     "execution_count": 7,
     "metadata": {},
     "output_type": "execute_result"
    }
   ],
   "source": [
    "housing_data = pd.read_csv(\"../../2/data/train.csv\")\n",
    "housing_data.head()"
   ]
  },
  {
   "cell_type": "markdown",
   "id": "fcc7caa7-2266-4d7f-b140-ed55fefa2c2d",
   "metadata": {},
   "source": [
    "# Feature Engineering\n",
    "\n",
    "## Standardization / Normalization"
   ]
  },
  {
   "cell_type": "code",
   "execution_count": 22,
   "id": "8258ebf2-007d-4cc7-88e0-9ced7f741591",
   "metadata": {},
   "outputs": [],
   "source": [
    "X = housing_data[[\"1stFlrSF\"]]"
   ]
  },
  {
   "cell_type": "code",
   "execution_count": 9,
   "id": "ad3ac8c9-db1a-4a6f-bdb1-5ed39ae28fd6",
   "metadata": {},
   "outputs": [
    {
     "data": {
      "image/png": "[encoded data removed]",
      "text/plain": [
       "<Figure size 640x480 with 1 Axes>"
      ]
     },
     "metadata": {
      "image/png": {
       "height": 434,
       "width": 571
      }
     },
     "output_type": "display_data"
    }
   ],
   "source": [
    "fig, ax = plt.subplots()\n",
    "ax.hist(X, bins=101)\n",
    "ax.set_title(\"1st Floor Square Footage Histogram\")\n",
    "ax.set_ylabel(\"Counts\")\n",
    "None"
   ]
  },
  {
   "cell_type": "code",
   "execution_count": 10,
   "id": "aa6866d2-c5a3-4d9d-b54d-7c034ad956d4",
   "metadata": {},
   "outputs": [],
   "source": [
    "from sklearn.preprocessing import StandardScaler"
   ]
  },
  {
   "cell_type": "code",
   "execution_count": 11,
   "id": "94487d6b-20bc-48b3-bbdb-26f23d2063e1",
   "metadata": {},
   "outputs": [],
   "source": [
    "scaler = StandardScaler()\n",
    "scaler = scaler.fit(X)"
   ]
  },
  {
   "cell_type": "code",
   "execution_count": 12,
   "id": "776705c0-255a-4863-a2c7-5c8318954f60",
   "metadata": {},
   "outputs": [
    {
     "name": "stdout",
     "output_type": "stream",
     "text": [
      "Mean = [1162.62671233], Variance = [149347.71613577]\n"
     ]
    }
   ],
   "source": [
    "print(f\"Mean = {scaler.mean_}, Variance = {scaler.var_}\")"
   ]
  },
  {
   "cell_type": "code",
   "execution_count": 13,
   "id": "50096a8a-5157-4f77-8369-eeb32de6e236",
   "metadata": {},
   "outputs": [],
   "source": [
    "X_trans = scaler.transform(X)"
   ]
  },
  {
   "cell_type": "code",
   "execution_count": 14,
   "id": "a1753908-c45b-4e80-b1ca-202a9341c681",
   "metadata": {},
   "outputs": [
    {
     "data": {
      "image/png": "[encoded data removed]",
      "text/plain": [
       "<Figure size 640x480 with 1 Axes>"
      ]
     },
     "metadata": {
      "image/png": {
       "height": 434,
       "width": 571
      }
     },
     "output_type": "display_data"
    }
   ],
   "source": [
    "fig, ax = plt.subplots()\n",
    "ax.hist(X_trans, bins=101)\n",
    "ax.set_title(\"Normalized 1st Floor Square Footage Histogram\")\n",
    "ax.set_ylabel(\"Counts\")\n",
    "None"
   ]
  },
  {
   "cell_type": "markdown",
   "id": "77cba5ca-9e80-4c14-a109-28dc6667d113",
   "metadata": {},
   "source": [
    "### PowerTransformer for Gaussian-ifying Data"
   ]
  },
  {
   "cell_type": "code",
   "execution_count": 15,
   "id": "882f7224-3858-4969-a096-1c59533e5905",
   "metadata": {},
   "outputs": [],
   "source": [
    "from sklearn.preprocessing import PowerTransformer"
   ]
  },
  {
   "cell_type": "code",
   "execution_count": 16,
   "id": "88354be9-502e-4262-b103-344146ef4955",
   "metadata": {},
   "outputs": [
    {
     "data": {
      "image/png": "[encoded data removed]",
      "text/plain": [
       "<Figure size 640x480 with 1 Axes>"
      ]
     },
     "metadata": {
      "image/png": {
       "height": 434,
       "width": 563
      }
     },
     "output_type": "display_data"
    }
   ],
   "source": [
    "scaler = PowerTransformer()\n",
    "scaler = scaler.fit(X)\n",
    "X_trans = scaler.transform(X)\n",
    "fig, ax = plt.subplots()\n",
    "ax.hist(X_trans, bins=101)\n",
    "ax.set_title(\"Power-Transformed 1st Floor Square Footage Histogram\")\n",
    "ax.set_ylabel(\"Counts\")\n",
    "None"
   ]
  },
  {
   "cell_type": "markdown",
   "id": "fadbfa04-da8e-45fd-8085-dc91ab4e16d4",
   "metadata": {},
   "source": [
    "# String Features\n",
    "\n",
    "## Ordinal Encoding\n",
    "\n",
    "```\n",
    "ExterCond: Evaluates the present condition of the material on the exterior\n",
    "\n",
    "       Ex\tExcellent\n",
    "       Gd\tGood\n",
    "       TA\tAverage/Typical\n",
    "       Fa\tFair\n",
    "       Po\tPoor\n",
    "```"
   ]
  },
  {
   "cell_type": "code",
   "execution_count": 49,
   "id": "d002a955-d15d-4b5b-81d5-69ecc46fe62a",
   "metadata": {},
   "outputs": [
    {
     "data": {
      "text/html": [
       "<div>\n",
       "<style scoped>\n",
       "    .dataframe tbody tr th:only-of-type {\n",
       "        vertical-align: middle;\n",
       "    }\n",
       "\n",
       "    .dataframe tbody tr th {\n",
       "        vertical-align: top;\n",
       "    }\n",
       "\n",
       "    .dataframe thead th {\n",
       "        text-align: right;\n",
       "    }\n",
       "</style>\n",
       "<table border=\"1\" class=\"dataframe\">\n",
       "  <thead>\n",
       "    <tr style=\"text-align: right;\">\n",
       "      <th></th>\n",
       "      <th>ExterCond</th>\n",
       "    </tr>\n",
       "  </thead>\n",
       "  <tbody>\n",
       "    <tr>\n",
       "      <th>0</th>\n",
       "      <td>TA</td>\n",
       "    </tr>\n",
       "    <tr>\n",
       "      <th>1</th>\n",
       "      <td>TA</td>\n",
       "    </tr>\n",
       "    <tr>\n",
       "      <th>2</th>\n",
       "      <td>TA</td>\n",
       "    </tr>\n",
       "    <tr>\n",
       "      <th>3</th>\n",
       "      <td>TA</td>\n",
       "    </tr>\n",
       "    <tr>\n",
       "      <th>4</th>\n",
       "      <td>TA</td>\n",
       "    </tr>\n",
       "    <tr>\n",
       "      <th>...</th>\n",
       "      <td>...</td>\n",
       "    </tr>\n",
       "    <tr>\n",
       "      <th>1455</th>\n",
       "      <td>TA</td>\n",
       "    </tr>\n",
       "    <tr>\n",
       "      <th>1456</th>\n",
       "      <td>TA</td>\n",
       "    </tr>\n",
       "    <tr>\n",
       "      <th>1457</th>\n",
       "      <td>Gd</td>\n",
       "    </tr>\n",
       "    <tr>\n",
       "      <th>1458</th>\n",
       "      <td>TA</td>\n",
       "    </tr>\n",
       "    <tr>\n",
       "      <th>1459</th>\n",
       "      <td>TA</td>\n",
       "    </tr>\n",
       "  </tbody>\n",
       "</table>\n",
       "<p>1460 rows × 1 columns</p>\n",
       "</div>"
      ],
      "text/plain": [
       "     ExterCond\n",
       "0           TA\n",
       "1           TA\n",
       "2           TA\n",
       "3           TA\n",
       "4           TA\n",
       "...        ...\n",
       "1455        TA\n",
       "1456        TA\n",
       "1457        Gd\n",
       "1458        TA\n",
       "1459        TA\n",
       "\n",
       "[1460 rows x 1 columns]"
      ]
     },
     "execution_count": 49,
     "metadata": {},
     "output_type": "execute_result"
    }
   ],
   "source": [
    "X = housing_data[[\"ExterCond\"]]\n",
    "X"
   ]
  },
  {
   "cell_type": "code",
   "execution_count": 24,
   "id": "12a51247-086c-4b53-be5a-5bdb7d40a535",
   "metadata": {},
   "outputs": [],
   "source": [
    "from sklearn.preprocessing import OrdinalEncoder"
   ]
  },
  {
   "cell_type": "code",
   "execution_count": 25,
   "id": "71a45c14-dec4-45a0-b186-50ea3cfe6bc6",
   "metadata": {},
   "outputs": [],
   "source": [
    "categories = [\"Po\", \"Fa\", \"TA\", \"Gd\", \"Ex\"]\n",
    "ordinal_encoder = OrdinalEncoder(categories=[categories])"
   ]
  },
  {
   "cell_type": "code",
   "execution_count": 26,
   "id": "d8e9b548-f126-4ba1-9aa7-e361bf041d01",
   "metadata": {},
   "outputs": [
    {
     "ename": "ValueError",
     "evalue": "invalid literal for int() with base 10: 'Po'",
     "output_type": "error",
     "traceback": [
      "\u001b[0;31m---------------------------------------------------------------------------\u001b[0m",
      "\u001b[0;31mValueError\u001b[0m                                Traceback (most recent call last)",
      "Cell \u001b[0;32mIn[26], line 1\u001b[0m\n\u001b[0;32m----> 1\u001b[0m ordinal_encoder \u001b[38;5;241m=\u001b[39m \u001b[43mordinal_encoder\u001b[49m\u001b[38;5;241;43m.\u001b[39;49m\u001b[43mfit\u001b[49m\u001b[43m(\u001b[49m\u001b[43mX\u001b[49m\u001b[43m)\u001b[49m\n",
      "File \u001b[0;32m~/git/MLSys-NYU-2022/weeks/3/env/lib/python3.11/site-packages/sklearn/base.py:1473\u001b[0m, in \u001b[0;36m_fit_context.<locals>.decorator.<locals>.wrapper\u001b[0;34m(estimator, *args, **kwargs)\u001b[0m\n\u001b[1;32m   1466\u001b[0m     estimator\u001b[38;5;241m.\u001b[39m_validate_params()\n\u001b[1;32m   1468\u001b[0m \u001b[38;5;28;01mwith\u001b[39;00m config_context(\n\u001b[1;32m   1469\u001b[0m     skip_parameter_validation\u001b[38;5;241m=\u001b[39m(\n\u001b[1;32m   1470\u001b[0m         prefer_skip_nested_validation \u001b[38;5;129;01mor\u001b[39;00m global_skip_validation\n\u001b[1;32m   1471\u001b[0m     )\n\u001b[1;32m   1472\u001b[0m ):\n\u001b[0;32m-> 1473\u001b[0m     \u001b[38;5;28;01mreturn\u001b[39;00m \u001b[43mfit_method\u001b[49m\u001b[43m(\u001b[49m\u001b[43mestimator\u001b[49m\u001b[43m,\u001b[49m\u001b[43m \u001b[49m\u001b[38;5;241;43m*\u001b[39;49m\u001b[43margs\u001b[49m\u001b[43m,\u001b[49m\u001b[43m \u001b[49m\u001b[38;5;241;43m*\u001b[39;49m\u001b[38;5;241;43m*\u001b[39;49m\u001b[43mkwargs\u001b[49m\u001b[43m)\u001b[49m\n",
      "File \u001b[0;32m~/git/MLSys-NYU-2022/weeks/3/env/lib/python3.11/site-packages/sklearn/preprocessing/_encoders.py:1496\u001b[0m, in \u001b[0;36mOrdinalEncoder.fit\u001b[0;34m(self, X, y)\u001b[0m\n\u001b[1;32m   1489\u001b[0m     \u001b[38;5;28;01mraise\u001b[39;00m \u001b[38;5;167;01mTypeError\u001b[39;00m(\n\u001b[1;32m   1490\u001b[0m         \u001b[38;5;124m\"\u001b[39m\u001b[38;5;124munknown_value should only be set when \u001b[39m\u001b[38;5;124m\"\u001b[39m\n\u001b[1;32m   1491\u001b[0m         \u001b[38;5;124m\"\u001b[39m\u001b[38;5;124mhandle_unknown is \u001b[39m\u001b[38;5;124m'\u001b[39m\u001b[38;5;124muse_encoded_value\u001b[39m\u001b[38;5;124m'\u001b[39m\u001b[38;5;124m, \u001b[39m\u001b[38;5;124m\"\u001b[39m\n\u001b[1;32m   1492\u001b[0m         \u001b[38;5;124mf\u001b[39m\u001b[38;5;124m\"\u001b[39m\u001b[38;5;124mgot \u001b[39m\u001b[38;5;132;01m{\u001b[39;00m\u001b[38;5;28mself\u001b[39m\u001b[38;5;241m.\u001b[39munknown_value\u001b[38;5;132;01m}\u001b[39;00m\u001b[38;5;124m.\u001b[39m\u001b[38;5;124m\"\u001b[39m\n\u001b[1;32m   1493\u001b[0m     )\n\u001b[1;32m   1495\u001b[0m \u001b[38;5;66;03m# `_fit` will only raise an error when `self.handle_unknown=\"error\"`\u001b[39;00m\n\u001b[0;32m-> 1496\u001b[0m fit_results \u001b[38;5;241m=\u001b[39m \u001b[38;5;28;43mself\u001b[39;49m\u001b[38;5;241;43m.\u001b[39;49m\u001b[43m_fit\u001b[49m\u001b[43m(\u001b[49m\n\u001b[1;32m   1497\u001b[0m \u001b[43m    \u001b[49m\u001b[43mX\u001b[49m\u001b[43m,\u001b[49m\n\u001b[1;32m   1498\u001b[0m \u001b[43m    \u001b[49m\u001b[43mhandle_unknown\u001b[49m\u001b[38;5;241;43m=\u001b[39;49m\u001b[38;5;28;43mself\u001b[39;49m\u001b[38;5;241;43m.\u001b[39;49m\u001b[43mhandle_unknown\u001b[49m\u001b[43m,\u001b[49m\n\u001b[1;32m   1499\u001b[0m \u001b[43m    \u001b[49m\u001b[43mforce_all_finite\u001b[49m\u001b[38;5;241;43m=\u001b[39;49m\u001b[38;5;124;43m\"\u001b[39;49m\u001b[38;5;124;43mallow-nan\u001b[39;49m\u001b[38;5;124;43m\"\u001b[39;49m\u001b[43m,\u001b[49m\n\u001b[1;32m   1500\u001b[0m \u001b[43m    \u001b[49m\u001b[43mreturn_and_ignore_missing_for_infrequent\u001b[49m\u001b[38;5;241;43m=\u001b[39;49m\u001b[38;5;28;43;01mTrue\u001b[39;49;00m\u001b[43m,\u001b[49m\n\u001b[1;32m   1501\u001b[0m \u001b[43m\u001b[49m\u001b[43m)\u001b[49m\n\u001b[1;32m   1502\u001b[0m \u001b[38;5;28mself\u001b[39m\u001b[38;5;241m.\u001b[39m_missing_indices \u001b[38;5;241m=\u001b[39m fit_results[\u001b[38;5;124m\"\u001b[39m\u001b[38;5;124mmissing_indices\u001b[39m\u001b[38;5;124m\"\u001b[39m]\n\u001b[1;32m   1504\u001b[0m cardinalities \u001b[38;5;241m=\u001b[39m [\u001b[38;5;28mlen\u001b[39m(categories) \u001b[38;5;28;01mfor\u001b[39;00m categories \u001b[38;5;129;01min\u001b[39;00m \u001b[38;5;28mself\u001b[39m\u001b[38;5;241m.\u001b[39mcategories_]\n",
      "File \u001b[0;32m~/git/MLSys-NYU-2022/weeks/3/env/lib/python3.11/site-packages/sklearn/preprocessing/_encoders.py:114\u001b[0m, in \u001b[0;36m_BaseEncoder._fit\u001b[0;34m(self, X, handle_unknown, force_all_finite, return_counts, return_and_ignore_missing_for_infrequent)\u001b[0m\n\u001b[1;32m    111\u001b[0m \u001b[38;5;28;01melse\u001b[39;00m:\n\u001b[1;32m    112\u001b[0m     Xi_dtype \u001b[38;5;241m=\u001b[39m Xi\u001b[38;5;241m.\u001b[39mdtype\n\u001b[0;32m--> 114\u001b[0m cats \u001b[38;5;241m=\u001b[39m \u001b[43mnp\u001b[49m\u001b[38;5;241;43m.\u001b[39;49m\u001b[43marray\u001b[49m\u001b[43m(\u001b[49m\u001b[38;5;28;43mself\u001b[39;49m\u001b[38;5;241;43m.\u001b[39;49m\u001b[43mcategories\u001b[49m\u001b[43m[\u001b[49m\u001b[43mi\u001b[49m\u001b[43m]\u001b[49m\u001b[43m,\u001b[49m\u001b[43m \u001b[49m\u001b[43mdtype\u001b[49m\u001b[38;5;241;43m=\u001b[39;49m\u001b[43mXi_dtype\u001b[49m\u001b[43m)\u001b[49m\n\u001b[1;32m    115\u001b[0m \u001b[38;5;28;01mif\u001b[39;00m (\n\u001b[1;32m    116\u001b[0m     cats\u001b[38;5;241m.\u001b[39mdtype \u001b[38;5;241m==\u001b[39m \u001b[38;5;28mobject\u001b[39m\n\u001b[1;32m    117\u001b[0m     \u001b[38;5;129;01mand\u001b[39;00m \u001b[38;5;28misinstance\u001b[39m(cats[\u001b[38;5;241m0\u001b[39m], \u001b[38;5;28mbytes\u001b[39m)\n\u001b[1;32m    118\u001b[0m     \u001b[38;5;129;01mand\u001b[39;00m Xi\u001b[38;5;241m.\u001b[39mdtype\u001b[38;5;241m.\u001b[39mkind \u001b[38;5;241m!=\u001b[39m \u001b[38;5;124m\"\u001b[39m\u001b[38;5;124mS\u001b[39m\u001b[38;5;124m\"\u001b[39m\n\u001b[1;32m    119\u001b[0m ):\n\u001b[1;32m    120\u001b[0m     msg \u001b[38;5;241m=\u001b[39m (\n\u001b[1;32m    121\u001b[0m         \u001b[38;5;124mf\u001b[39m\u001b[38;5;124m\"\u001b[39m\u001b[38;5;124mIn column \u001b[39m\u001b[38;5;132;01m{\u001b[39;00mi\u001b[38;5;132;01m}\u001b[39;00m\u001b[38;5;124m, the predefined categories have type \u001b[39m\u001b[38;5;124m'\u001b[39m\u001b[38;5;124mbytes\u001b[39m\u001b[38;5;124m'\u001b[39m\u001b[38;5;124m\"\u001b[39m\n\u001b[1;32m    122\u001b[0m         \u001b[38;5;124m\"\u001b[39m\u001b[38;5;124m which is incompatible with values of type\u001b[39m\u001b[38;5;124m\"\u001b[39m\n\u001b[1;32m    123\u001b[0m         \u001b[38;5;124mf\u001b[39m\u001b[38;5;124m\"\u001b[39m\u001b[38;5;124m \u001b[39m\u001b[38;5;124m'\u001b[39m\u001b[38;5;132;01m{\u001b[39;00m\u001b[38;5;28mtype\u001b[39m(Xi[\u001b[38;5;241m0\u001b[39m])\u001b[38;5;241m.\u001b[39m\u001b[38;5;18m__name__\u001b[39m\u001b[38;5;132;01m}\u001b[39;00m\u001b[38;5;124m'\u001b[39m\u001b[38;5;124m.\u001b[39m\u001b[38;5;124m\"\u001b[39m\n\u001b[1;32m    124\u001b[0m     )\n",
      "\u001b[0;31mValueError\u001b[0m: invalid literal for int() with base 10: 'Po'"
     ]
    }
   ],
   "source": [
    "ordinal_encoder = ordinal_encoder.fit(X)"
   ]
  },
  {
   "cell_type": "code",
   "execution_count": 53,
   "id": "7533aa97-0f1e-44d7-83a0-de2ee8ea5ddc",
   "metadata": {},
   "outputs": [
    {
     "data": {
      "text/plain": [
       "[array(['Po', 'Fa', 'TA', 'Gd', 'Ex'], dtype=object)]"
      ]
     },
     "execution_count": 53,
     "metadata": {},
     "output_type": "execute_result"
    }
   ],
   "source": [
    "ordinal_encoder.categories_"
   ]
  },
  {
   "cell_type": "code",
   "execution_count": 54,
   "id": "a1d0ca84-c517-4788-b54f-0dbd7d853317",
   "metadata": {},
   "outputs": [
    {
     "data": {
      "text/plain": [
       "array([[2.],\n",
       "       [2.],\n",
       "       [2.],\n",
       "       ...,\n",
       "       [3.],\n",
       "       [2.],\n",
       "       [2.]])"
      ]
     },
     "execution_count": 54,
     "metadata": {},
     "output_type": "execute_result"
    }
   ],
   "source": [
    "X_trans = ordinal_encoder.transform(X)\n",
    "X_trans"
   ]
  },
  {
   "cell_type": "code",
   "execution_count": 55,
   "id": "a3b981f4-eaa9-4c15-a072-1b1d09829b30",
   "metadata": {},
   "outputs": [
    {
     "data": {
      "text/plain": [
       "array([['TA'],\n",
       "       ['TA'],\n",
       "       ['TA'],\n",
       "       ...,\n",
       "       ['Gd'],\n",
       "       ['TA'],\n",
       "       ['TA']], dtype=object)"
      ]
     },
     "execution_count": 55,
     "metadata": {},
     "output_type": "execute_result"
    }
   ],
   "source": [
    "ordinal_encoder.inverse_transform(X_trans)"
   ]
  },
  {
   "cell_type": "markdown",
   "id": "25ac0836-ab5e-44fc-9409-4ace43a74764",
   "metadata": {},
   "source": [
    "## One Hot Encoding\n",
    "\n",
    "```\n",
    "Foundation: Type of foundation\n",
    "\n",
    "       BrkTil\tBrick & Tile\n",
    "       CBlock\tCinder Block\n",
    "       PConc\tPoured Contrete\n",
    "       Slab\tSlab\n",
    "       Stone\tStone\n",
    "       Wood\tWood\n",
    "```"
   ]
  },
  {
   "cell_type": "code",
   "execution_count": 30,
   "id": "c3351c01-1b11-4cb2-bd37-922103962d9f",
   "metadata": {},
   "outputs": [
    {
     "data": {
      "text/html": [
       "<div>\n",
       "<style scoped>\n",
       "    .dataframe tbody tr th:only-of-type {\n",
       "        vertical-align: middle;\n",
       "    }\n",
       "\n",
       "    .dataframe tbody tr th {\n",
       "        vertical-align: top;\n",
       "    }\n",
       "\n",
       "    .dataframe thead th {\n",
       "        text-align: right;\n",
       "    }\n",
       "</style>\n",
       "<table border=\"1\" class=\"dataframe\">\n",
       "  <thead>\n",
       "    <tr style=\"text-align: right;\">\n",
       "      <th></th>\n",
       "      <th>Foundation</th>\n",
       "    </tr>\n",
       "  </thead>\n",
       "  <tbody>\n",
       "    <tr>\n",
       "      <th>0</th>\n",
       "      <td>PConc</td>\n",
       "    </tr>\n",
       "    <tr>\n",
       "      <th>1</th>\n",
       "      <td>CBlock</td>\n",
       "    </tr>\n",
       "    <tr>\n",
       "      <th>2</th>\n",
       "      <td>PConc</td>\n",
       "    </tr>\n",
       "    <tr>\n",
       "      <th>3</th>\n",
       "      <td>BrkTil</td>\n",
       "    </tr>\n",
       "    <tr>\n",
       "      <th>4</th>\n",
       "      <td>PConc</td>\n",
       "    </tr>\n",
       "    <tr>\n",
       "      <th>...</th>\n",
       "      <td>...</td>\n",
       "    </tr>\n",
       "    <tr>\n",
       "      <th>1455</th>\n",
       "      <td>PConc</td>\n",
       "    </tr>\n",
       "    <tr>\n",
       "      <th>1456</th>\n",
       "      <td>CBlock</td>\n",
       "    </tr>\n",
       "    <tr>\n",
       "      <th>1457</th>\n",
       "      <td>Stone</td>\n",
       "    </tr>\n",
       "    <tr>\n",
       "      <th>1458</th>\n",
       "      <td>CBlock</td>\n",
       "    </tr>\n",
       "    <tr>\n",
       "      <th>1459</th>\n",
       "      <td>CBlock</td>\n",
       "    </tr>\n",
       "  </tbody>\n",
       "</table>\n",
       "<p>1460 rows × 1 columns</p>\n",
       "</div>"
      ],
      "text/plain": [
       "     Foundation\n",
       "0         PConc\n",
       "1        CBlock\n",
       "2         PConc\n",
       "3        BrkTil\n",
       "4         PConc\n",
       "...         ...\n",
       "1455      PConc\n",
       "1456     CBlock\n",
       "1457      Stone\n",
       "1458     CBlock\n",
       "1459     CBlock\n",
       "\n",
       "[1460 rows x 1 columns]"
      ]
     },
     "execution_count": 30,
     "metadata": {},
     "output_type": "execute_result"
    }
   ],
   "source": [
    "X = housing_data[[\"Foundation\"]]\n",
    "X"
   ]
  },
  {
   "cell_type": "code",
   "execution_count": 31,
   "id": "2c2dc7fd-95b6-4148-8e97-2cca64c0a150",
   "metadata": {},
   "outputs": [],
   "source": [
    "from sklearn.preprocessing import OneHotEncoder"
   ]
  },
  {
   "cell_type": "code",
   "execution_count": 32,
   "id": "bfb783d3-3b49-482a-acca-2503604cac74",
   "metadata": {},
   "outputs": [
    {
     "data": {
      "text/plain": [
       "<Compressed Sparse Row sparse matrix of dtype 'float64'\n",
       "\twith 1460 stored elements and shape (1460, 6)>"
      ]
     },
     "execution_count": 32,
     "metadata": {},
     "output_type": "execute_result"
    }
   ],
   "source": [
    "one_hot_encoder = OneHotEncoder(categories=\"auto\")\n",
    "X_trans = one_hot_encoder.fit_transform(X)\n",
    "X_trans"
   ]
  },
  {
   "cell_type": "code",
   "execution_count": 33,
   "id": "a77fa959-2616-4241-9655-5f05caee9082",
   "metadata": {},
   "outputs": [
    {
     "data": {
      "text/plain": [
       "[array(['BrkTil', 'CBlock', 'PConc', 'Slab', 'Stone', 'Wood'], dtype=object)]"
      ]
     },
     "execution_count": 33,
     "metadata": {},
     "output_type": "execute_result"
    }
   ],
   "source": [
    "one_hot_encoder.categories_"
   ]
  },
  {
   "cell_type": "code",
   "execution_count": 34,
   "id": "04e486de-9d97-45a0-bd2d-e78e0642a457",
   "metadata": {},
   "outputs": [
    {
     "data": {
      "text/plain": [
       "array([['PConc'],\n",
       "       ['CBlock'],\n",
       "       ['PConc'],\n",
       "       ...,\n",
       "       ['Stone'],\n",
       "       ['CBlock'],\n",
       "       ['CBlock']], dtype=object)"
      ]
     },
     "execution_count": 34,
     "metadata": {},
     "output_type": "execute_result"
    }
   ],
   "source": [
    "one_hot_encoder.inverse_transform(X_trans)"
   ]
  },
  {
   "cell_type": "markdown",
   "id": "bf5b88c0-32da-45ad-83a9-334b1e1e8946",
   "metadata": {},
   "source": [
    "You can also hack this in pandas"
   ]
  },
  {
   "cell_type": "code",
   "execution_count": 35,
   "id": "f6d1b789-d66d-4eb7-98bc-ed50e9a9c67b",
   "metadata": {},
   "outputs": [
    {
     "data": {
      "text/html": [
       "<div>\n",
       "<style scoped>\n",
       "    .dataframe tbody tr th:only-of-type {\n",
       "        vertical-align: middle;\n",
       "    }\n",
       "\n",
       "    .dataframe tbody tr th {\n",
       "        vertical-align: top;\n",
       "    }\n",
       "\n",
       "    .dataframe thead th {\n",
       "        text-align: right;\n",
       "    }\n",
       "</style>\n",
       "<table border=\"1\" class=\"dataframe\">\n",
       "  <thead>\n",
       "    <tr style=\"text-align: right;\">\n",
       "      <th></th>\n",
       "      <th>Foundation_BrkTil</th>\n",
       "      <th>Foundation_CBlock</th>\n",
       "      <th>Foundation_PConc</th>\n",
       "      <th>Foundation_Slab</th>\n",
       "      <th>Foundation_Stone</th>\n",
       "      <th>Foundation_Wood</th>\n",
       "    </tr>\n",
       "  </thead>\n",
       "  <tbody>\n",
       "    <tr>\n",
       "      <th>0</th>\n",
       "      <td>0</td>\n",
       "      <td>0</td>\n",
       "      <td>1</td>\n",
       "      <td>0</td>\n",
       "      <td>0</td>\n",
       "      <td>0</td>\n",
       "    </tr>\n",
       "    <tr>\n",
       "      <th>1</th>\n",
       "      <td>0</td>\n",
       "      <td>1</td>\n",
       "      <td>0</td>\n",
       "      <td>0</td>\n",
       "      <td>0</td>\n",
       "      <td>0</td>\n",
       "    </tr>\n",
       "    <tr>\n",
       "      <th>2</th>\n",
       "      <td>0</td>\n",
       "      <td>0</td>\n",
       "      <td>1</td>\n",
       "      <td>0</td>\n",
       "      <td>0</td>\n",
       "      <td>0</td>\n",
       "    </tr>\n",
       "    <tr>\n",
       "      <th>3</th>\n",
       "      <td>1</td>\n",
       "      <td>0</td>\n",
       "      <td>0</td>\n",
       "      <td>0</td>\n",
       "      <td>0</td>\n",
       "      <td>0</td>\n",
       "    </tr>\n",
       "    <tr>\n",
       "      <th>4</th>\n",
       "      <td>0</td>\n",
       "      <td>0</td>\n",
       "      <td>1</td>\n",
       "      <td>0</td>\n",
       "      <td>0</td>\n",
       "      <td>0</td>\n",
       "    </tr>\n",
       "    <tr>\n",
       "      <th>...</th>\n",
       "      <td>...</td>\n",
       "      <td>...</td>\n",
       "      <td>...</td>\n",
       "      <td>...</td>\n",
       "      <td>...</td>\n",
       "      <td>...</td>\n",
       "    </tr>\n",
       "    <tr>\n",
       "      <th>1455</th>\n",
       "      <td>0</td>\n",
       "      <td>0</td>\n",
       "      <td>1</td>\n",
       "      <td>0</td>\n",
       "      <td>0</td>\n",
       "      <td>0</td>\n",
       "    </tr>\n",
       "    <tr>\n",
       "      <th>1456</th>\n",
       "      <td>0</td>\n",
       "      <td>1</td>\n",
       "      <td>0</td>\n",
       "      <td>0</td>\n",
       "      <td>0</td>\n",
       "      <td>0</td>\n",
       "    </tr>\n",
       "    <tr>\n",
       "      <th>1457</th>\n",
       "      <td>0</td>\n",
       "      <td>0</td>\n",
       "      <td>0</td>\n",
       "      <td>0</td>\n",
       "      <td>1</td>\n",
       "      <td>0</td>\n",
       "    </tr>\n",
       "    <tr>\n",
       "      <th>1458</th>\n",
       "      <td>0</td>\n",
       "      <td>1</td>\n",
       "      <td>0</td>\n",
       "      <td>0</td>\n",
       "      <td>0</td>\n",
       "      <td>0</td>\n",
       "    </tr>\n",
       "    <tr>\n",
       "      <th>1459</th>\n",
       "      <td>0</td>\n",
       "      <td>1</td>\n",
       "      <td>0</td>\n",
       "      <td>0</td>\n",
       "      <td>0</td>\n",
       "      <td>0</td>\n",
       "    </tr>\n",
       "  </tbody>\n",
       "</table>\n",
       "<p>1460 rows × 6 columns</p>\n",
       "</div>"
      ],
      "text/plain": [
       "      Foundation_BrkTil  Foundation_CBlock  Foundation_PConc  Foundation_Slab  \\\n",
       "0                     0                  0                 1                0   \n",
       "1                     0                  1                 0                0   \n",
       "2                     0                  0                 1                0   \n",
       "3                     1                  0                 0                0   \n",
       "4                     0                  0                 1                0   \n",
       "...                 ...                ...               ...              ...   \n",
       "1455                  0                  0                 1                0   \n",
       "1456                  0                  1                 0                0   \n",
       "1457                  0                  0                 0                0   \n",
       "1458                  0                  1                 0                0   \n",
       "1459                  0                  1                 0                0   \n",
       "\n",
       "      Foundation_Stone  Foundation_Wood  \n",
       "0                    0                0  \n",
       "1                    0                0  \n",
       "2                    0                0  \n",
       "3                    0                0  \n",
       "4                    0                0  \n",
       "...                ...              ...  \n",
       "1455                 0                0  \n",
       "1456                 0                0  \n",
       "1457                 1                0  \n",
       "1458                 0                0  \n",
       "1459                 0                0  \n",
       "\n",
       "[1460 rows x 6 columns]"
      ]
     },
     "execution_count": 35,
     "metadata": {},
     "output_type": "execute_result"
    }
   ],
   "source": [
    "pd.get_dummies(X)"
   ]
  },
  {
   "cell_type": "markdown",
   "id": "8fa33252-f701-496c-98a2-378fec6a7015",
   "metadata": {},
   "source": [
    "## Multiple Columns"
   ]
  },
  {
   "cell_type": "code",
   "execution_count": 36,
   "id": "f13ef898-b492-4d70-aabc-5ac287ef88a3",
   "metadata": {},
   "outputs": [
    {
     "data": {
      "text/html": [
       "<div>\n",
       "<style scoped>\n",
       "    .dataframe tbody tr th:only-of-type {\n",
       "        vertical-align: middle;\n",
       "    }\n",
       "\n",
       "    .dataframe tbody tr th {\n",
       "        vertical-align: top;\n",
       "    }\n",
       "\n",
       "    .dataframe thead th {\n",
       "        text-align: right;\n",
       "    }\n",
       "</style>\n",
       "<table border=\"1\" class=\"dataframe\">\n",
       "  <thead>\n",
       "    <tr style=\"text-align: right;\">\n",
       "      <th></th>\n",
       "      <th>Foundation</th>\n",
       "      <th>SaleCondition</th>\n",
       "      <th>HouseStyle</th>\n",
       "    </tr>\n",
       "  </thead>\n",
       "  <tbody>\n",
       "    <tr>\n",
       "      <th>0</th>\n",
       "      <td>PConc</td>\n",
       "      <td>Normal</td>\n",
       "      <td>2Story</td>\n",
       "    </tr>\n",
       "    <tr>\n",
       "      <th>1</th>\n",
       "      <td>CBlock</td>\n",
       "      <td>Normal</td>\n",
       "      <td>1Story</td>\n",
       "    </tr>\n",
       "    <tr>\n",
       "      <th>2</th>\n",
       "      <td>PConc</td>\n",
       "      <td>Normal</td>\n",
       "      <td>2Story</td>\n",
       "    </tr>\n",
       "    <tr>\n",
       "      <th>3</th>\n",
       "      <td>BrkTil</td>\n",
       "      <td>Abnorml</td>\n",
       "      <td>2Story</td>\n",
       "    </tr>\n",
       "    <tr>\n",
       "      <th>4</th>\n",
       "      <td>PConc</td>\n",
       "      <td>Normal</td>\n",
       "      <td>2Story</td>\n",
       "    </tr>\n",
       "    <tr>\n",
       "      <th>...</th>\n",
       "      <td>...</td>\n",
       "      <td>...</td>\n",
       "      <td>...</td>\n",
       "    </tr>\n",
       "    <tr>\n",
       "      <th>1455</th>\n",
       "      <td>PConc</td>\n",
       "      <td>Normal</td>\n",
       "      <td>2Story</td>\n",
       "    </tr>\n",
       "    <tr>\n",
       "      <th>1456</th>\n",
       "      <td>CBlock</td>\n",
       "      <td>Normal</td>\n",
       "      <td>1Story</td>\n",
       "    </tr>\n",
       "    <tr>\n",
       "      <th>1457</th>\n",
       "      <td>Stone</td>\n",
       "      <td>Normal</td>\n",
       "      <td>2Story</td>\n",
       "    </tr>\n",
       "    <tr>\n",
       "      <th>1458</th>\n",
       "      <td>CBlock</td>\n",
       "      <td>Normal</td>\n",
       "      <td>1Story</td>\n",
       "    </tr>\n",
       "    <tr>\n",
       "      <th>1459</th>\n",
       "      <td>CBlock</td>\n",
       "      <td>Normal</td>\n",
       "      <td>1Story</td>\n",
       "    </tr>\n",
       "  </tbody>\n",
       "</table>\n",
       "<p>1460 rows × 3 columns</p>\n",
       "</div>"
      ],
      "text/plain": [
       "     Foundation SaleCondition HouseStyle\n",
       "0         PConc        Normal     2Story\n",
       "1        CBlock        Normal     1Story\n",
       "2         PConc        Normal     2Story\n",
       "3        BrkTil       Abnorml     2Story\n",
       "4         PConc        Normal     2Story\n",
       "...         ...           ...        ...\n",
       "1455      PConc        Normal     2Story\n",
       "1456     CBlock        Normal     1Story\n",
       "1457      Stone        Normal     2Story\n",
       "1458     CBlock        Normal     1Story\n",
       "1459     CBlock        Normal     1Story\n",
       "\n",
       "[1460 rows x 3 columns]"
      ]
     },
     "execution_count": 36,
     "metadata": {},
     "output_type": "execute_result"
    }
   ],
   "source": [
    "X = housing_data[[\"Foundation\", \"SaleCondition\", \"HouseStyle\"]]\n",
    "X"
   ]
  },
  {
   "cell_type": "code",
   "execution_count": 39,
   "id": "82b51edb-8ce3-44bd-af87-93faef1237f8",
   "metadata": {},
   "outputs": [
    {
     "data": {
      "text/plain": [
       "<Compressed Sparse Row sparse matrix of dtype 'float64'\n",
       "\twith 4380 stored elements and shape (1460, 20)>"
      ]
     },
     "execution_count": 39,
     "metadata": {},
     "output_type": "execute_result"
    }
   ],
   "source": [
    "one_hot_encoder = OneHotEncoder(categories=\"auto\")\n",
    "X_trans = one_hot_encoder.fit_transform(X)\n",
    "X_trans"
   ]
  },
  {
   "cell_type": "code",
   "execution_count": 40,
   "id": "70113b65-d919-49c4-a520-21c7753ccdea",
   "metadata": {},
   "outputs": [
    {
     "data": {
      "text/plain": [
       "[array(['BrkTil', 'CBlock', 'PConc', 'Slab', 'Stone', 'Wood'], dtype=object),\n",
       " array(['Abnorml', 'AdjLand', 'Alloca', 'Family', 'Normal', 'Partial'],\n",
       "       dtype=object),\n",
       " array(['1.5Fin', '1.5Unf', '1Story', '2.5Fin', '2.5Unf', '2Story',\n",
       "        'SFoyer', 'SLvl'], dtype=object)]"
      ]
     },
     "execution_count": 40,
     "metadata": {},
     "output_type": "execute_result"
    }
   ],
   "source": [
    "one_hot_encoder.categories_"
   ]
  },
  {
   "cell_type": "code",
   "execution_count": null,
   "id": "ebb4704a-1e59-40cd-bf33-dfd7426bad58",
   "metadata": {},
   "outputs": [],
   "source": [
    "one_hot_encoder.inverse_transform(one_hot_encoder.fit_transform(X_trans))"
   ]
  },
  {
   "cell_type": "markdown",
   "id": "63d3bf1f-6afc-4ece-a171-b76535c03d39",
   "metadata": {},
   "source": [
    "# Model Selection\n",
    "\n",
    "## Train/Test Split"
   ]
  },
  {
   "cell_type": "code",
   "execution_count": null,
   "id": "71f404f6-1802-4916-a5d6-4c69f71988fa",
   "metadata": {},
   "outputs": [],
   "source": [
    "print(f\"Full Dataset: {len(housing_data)} samples\")"
   ]
  },
  {
   "cell_type": "code",
   "execution_count": null,
   "id": "a0a104e6-ae3e-43d1-9670-de5c012965b4",
   "metadata": {},
   "outputs": [],
   "source": [
    "from sklearn.model_selection import train_test_split"
   ]
  },
  {
   "cell_type": "code",
   "execution_count": null,
   "id": "06ee9329-31c4-462b-a408-fda73c5c0b01",
   "metadata": {},
   "outputs": [],
   "source": [
    "TEST_SIZE = 0.30\n",
    "train, test = train_test_split(\n",
    "    housing_data, test_size=TEST_SIZE, random_state=RANDOM_SEED\n",
    ")"
   ]
  },
  {
   "cell_type": "code",
   "execution_count": null,
   "id": "d0f223b3-aa5b-410e-93fd-248d1a37a6a4",
   "metadata": {},
   "outputs": [],
   "source": [
    "print(f\"Train Dataset: {len(train):,} samples ({len(train) / len(housing_data):.0%})\")\n",
    "print(f\"Test Dataset: {len(test)} samples ({len(test) / len(housing_data):.0%})\")"
   ]
  },
  {
   "cell_type": "code",
   "execution_count": null,
   "id": "0780f0e3-4559-4b17-8faf-66ce7e474e4b",
   "metadata": {},
   "outputs": [],
   "source": [
    "from sklearn.linear_model import LinearRegression"
   ]
  },
  {
   "cell_type": "code",
   "execution_count": null,
   "id": "2cea9023-695b-4be2-ad67-b0c1c3ae27a4",
   "metadata": {},
   "outputs": [],
   "source": [
    "model = LinearRegression()"
   ]
  },
  {
   "cell_type": "code",
   "execution_count": null,
   "id": "25652671-0e7f-4372-af2e-87c585878ed2",
   "metadata": {},
   "outputs": [],
   "source": [
    "def get_X_y(housing_data):\n",
    "    target = \"SalePrice\"\n",
    "    features = []\n",
    "    for col in housing_data.columns:\n",
    "        if col == target:\n",
    "            continue\n",
    "        if housing_data[col].dtype in (np.dtype(\"int64\"), np.dtype(\"float64\")):\n",
    "            features.append(col)\n",
    "\n",
    "    X = housing_data[features].copy()\n",
    "    y = housing_data[target].copy()\n",
    "    return X, y"
   ]
  },
  {
   "cell_type": "code",
   "execution_count": null,
   "id": "f532e805-3918-4297-afee-5ccaffa788f2",
   "metadata": {},
   "outputs": [],
   "source": [
    "X_train, y_train = get_X_y(train)"
   ]
  },
  {
   "cell_type": "code",
   "execution_count": null,
   "id": "9afbc701-b112-4519-a318-2db192afc5db",
   "metadata": {},
   "outputs": [],
   "source": [
    "model.fit(X_train, y_train)"
   ]
  },
  {
   "cell_type": "code",
   "execution_count": null,
   "id": "c26d4221-33ab-415f-a5f2-48e3f9feb9b5",
   "metadata": {},
   "outputs": [],
   "source": [
    "from sklearn.impute import SimpleImputer"
   ]
  },
  {
   "cell_type": "code",
   "execution_count": null,
   "id": "6c37dfcf-7e31-4d51-b008-2d084f833425",
   "metadata": {},
   "outputs": [],
   "source": [
    "imputer = SimpleImputer()\n",
    "X_train_trans = imputer.fit_transform(X_train)"
   ]
  },
  {
   "cell_type": "code",
   "execution_count": null,
   "id": "cbdba418-709c-4b0c-b2db-4ddf29728c1f",
   "metadata": {},
   "outputs": [],
   "source": [
    "model.fit(X_train_trans, y_train)"
   ]
  },
  {
   "cell_type": "code",
   "execution_count": null,
   "id": "a9a28860-af61-4967-af76-06787fef8d72",
   "metadata": {},
   "outputs": [],
   "source": [
    "from sklearn.metrics import r2_score"
   ]
  },
  {
   "cell_type": "code",
   "execution_count": null,
   "id": "39a8a550-e1e9-4168-ba90-04ecd75cf20c",
   "metadata": {},
   "outputs": [],
   "source": [
    "y_train_pred = model.predict(X_train_trans)\n",
    "r2_train = r2_score(y_train, y_train_pred)\n",
    "print(f\"Training R^2 = {r2_train:.3}\")"
   ]
  },
  {
   "cell_type": "code",
   "execution_count": null,
   "id": "81998928-d5f5-4409-aede-2af302e436fa",
   "metadata": {},
   "outputs": [],
   "source": [
    "X_test, y_test = get_X_y(test)"
   ]
  },
  {
   "cell_type": "code",
   "execution_count": null,
   "id": "43af4538-0f09-464a-8abb-805375bc5eaf",
   "metadata": {},
   "outputs": [],
   "source": [
    "y_test_pred = model.predict(X_test)"
   ]
  },
  {
   "cell_type": "code",
   "execution_count": null,
   "id": "a0f7211d-3066-4cff-8b48-40230d76779a",
   "metadata": {},
   "outputs": [],
   "source": [
    "X_test_trans = imputer.transform(X_test)"
   ]
  },
  {
   "cell_type": "code",
   "execution_count": null,
   "id": "cc1fac60-cd23-48bc-a109-b63048aabec2",
   "metadata": {},
   "outputs": [],
   "source": [
    "y_test_pred = model.predict(X_test_trans)\n",
    "r2_test = r2_score(y_test, y_test_pred)\n",
    "print(f\"Test R^2 = {r2_test:.3}\")"
   ]
  },
  {
   "cell_type": "markdown",
   "id": "d294bfd0-c9fb-40d8-943b-cfdb33d68e35",
   "metadata": {},
   "source": [
    "## Regularization"
   ]
  },
  {
   "cell_type": "code",
   "execution_count": null,
   "id": "deef10b9-be64-4426-8ba6-6d1b58e80350",
   "metadata": {},
   "outputs": [],
   "source": [
    "from sklearn.linear_model import Ridge"
   ]
  },
  {
   "cell_type": "code",
   "execution_count": null,
   "id": "c1ce87f8-c998-41db-9ef0-25c032162e39",
   "metadata": {},
   "outputs": [],
   "source": [
    "def fit_and_evaluate_model(model, train, test):\n",
    "    X_train, y_train = get_X_y(train)\n",
    "    X_test, y_test = get_X_y(test)\n",
    "\n",
    "    imputer = SimpleImputer()\n",
    "    X_train_trans = imputer.fit_transform(X_train)\n",
    "    model.fit(X_train_trans, y_train)\n",
    "\n",
    "    y_train_pred = model.predict(X_train_trans)\n",
    "    y_test_pred = model.predict(imputer.transform(X_test))\n",
    "\n",
    "    return r2_score(y_train, y_train_pred), r2_score(y_test, y_test_pred)"
   ]
  },
  {
   "cell_type": "code",
   "execution_count": null,
   "id": "e600ecc6-e6f8-4020-b66a-55735ad682a1",
   "metadata": {},
   "outputs": [],
   "source": [
    "r2_train, r2_test = fit_and_evaluate_model(\n",
    "    Ridge(alpha=1_000, random_state=RANDOM_SEED), train, test\n",
    ")"
   ]
  },
  {
   "cell_type": "code",
   "execution_count": null,
   "id": "08620502-0ea7-454a-8970-cc158934eadd",
   "metadata": {},
   "outputs": [],
   "source": [
    "print(f\"Train R^2 = {r2_train:.3}\")\n",
    "print(f\"Test R^2 = {r2_test:.3}\")"
   ]
  },
  {
   "cell_type": "code",
   "execution_count": null,
   "id": "5316f9f3-79af-4341-88e6-d3718f6fd59d",
   "metadata": {},
   "outputs": [],
   "source": [
    "def fit_and_evaluate_model_with_scaling(model, train, test):\n",
    "    X_train, y_train = get_X_y(train)\n",
    "    X_test, y_test = get_X_y(test)\n",
    "\n",
    "    # Let's also scale the data first!\n",
    "    scaler = StandardScaler()\n",
    "    X_train_trans = scaler.fit_transform(X_train)\n",
    "\n",
    "    imputer = SimpleImputer()\n",
    "    X_train_trans = imputer.fit_transform(X_train_trans)\n",
    "\n",
    "    model.fit(X_train_trans, y_train)\n",
    "\n",
    "    y_train_pred = model.predict(X_train_trans)\n",
    "    y_test_pred = model.predict(imputer.transform(scaler.transform(X_test)))\n",
    "\n",
    "    return r2_score(y_train, y_train_pred), r2_score(y_test, y_test_pred)"
   ]
  },
  {
   "cell_type": "code",
   "execution_count": null,
   "id": "6ac690c3-f6bb-42c5-a4cc-e1458187e9ff",
   "metadata": {},
   "outputs": [],
   "source": [
    "r2_train, r2_test = fit_and_evaluate_model_with_scaling(\n",
    "    Ridge(alpha=1_000, random_state=RANDOM_SEED), train, test\n",
    ")\n",
    "print(f\"Train R^2 = {r2_train:.3}\")\n",
    "print(f\"Test R^2 = {r2_test:.3}\")"
   ]
  },
  {
   "cell_type": "markdown",
   "id": "5eb28117-46f2-4999-8dcc-ad644d9b7bbd",
   "metadata": {},
   "source": [
    "## Cross Validation"
   ]
  },
  {
   "cell_type": "code",
   "execution_count": null,
   "id": "282e2ef8-6254-4f02-9f75-c44f69088c75",
   "metadata": {},
   "outputs": [],
   "source": [
    "from sklearn.model_selection import KFold"
   ]
  },
  {
   "cell_type": "code",
   "execution_count": null,
   "id": "6b20b15c-5f57-4522-92cc-4700046ece63",
   "metadata": {},
   "outputs": [],
   "source": [
    "splitter = KFold(n_splits=5, shuffle=True, random_state=RANDOM_SEED)"
   ]
  },
  {
   "cell_type": "code",
   "execution_count": null,
   "id": "0339ef25-a10e-4486-9bea-b02a3dec900c",
   "metadata": {},
   "outputs": [],
   "source": [
    "fold = 1\n",
    "for train_index, val_index in splitter.split(train):\n",
    "    print(f\"Fold {fold}:\")\n",
    "    print(\n",
    "        f\"\\tTrain Dataset: {len(train_index):,} samples ({len(train_index) / len(train):.0%})\"\n",
    "    )\n",
    "    print(\n",
    "        f\"\\tVal Dataset: {len(val_index)} samples ({len(val_index) / len(train):.0%})\"\n",
    "    )\n",
    "    fold += 1"
   ]
  },
  {
   "cell_type": "code",
   "execution_count": null,
   "id": "ede29f4c-bb33-4b57-a999-955b2cad93ef",
   "metadata": {},
   "outputs": [],
   "source": [
    "print(val_index)"
   ]
  },
  {
   "cell_type": "code",
   "execution_count": null,
   "id": "93b1a7a1-c485-417c-9cfd-381dff1cb23e",
   "metadata": {},
   "outputs": [],
   "source": [
    "r2_trains = []\n",
    "r2_vals = []\n",
    "fold = 1\n",
    "for train_index, val_index in splitter.split(train):\n",
    "    r2_train, r2_val = fit_and_evaluate_model_with_scaling(\n",
    "        Ridge(alpha=1_000, random_state=RANDOM_SEED),\n",
    "        train.iloc[train_index],\n",
    "        train.iloc[val_index],\n",
    "    )\n",
    "\n",
    "    r2_trains.append(r2_train)\n",
    "    r2_vals.append(r2_val)\n",
    "\n",
    "    fold += 1"
   ]
  },
  {
   "cell_type": "code",
   "execution_count": null,
   "id": "68f3487f-4c69-4576-8c21-17b5c63019a7",
   "metadata": {},
   "outputs": [],
   "source": [
    "fig, ax = plt.subplots()\n",
    "ax.plot(range(1, 6), r2_trains, \"o--\", label=\"Training\")\n",
    "ax.plot(range(1, 6), r2_vals, \"o--\", label=\"Validation\")\n",
    "ax.legend(title=\"Dataset\", bbox_to_anchor=(1, 1))\n",
    "ax.set_xlabel(\"Fold\")\n",
    "ax.set_title(\"K-Fold $R^{2}$\")\n",
    "ax.set_ylim((0, ax.get_ylim()[1]))\n",
    "None"
   ]
  },
  {
   "cell_type": "markdown",
   "id": "6971bc20-1cef-415d-a68f-932c3c20e208",
   "metadata": {},
   "source": [
    "## Doing a Hyperparameter Search"
   ]
  },
  {
   "cell_type": "code",
   "execution_count": 3,
   "id": "d734d12a-9df5-49df-88a8-54eaf25925d9",
   "metadata": {},
   "outputs": [
    {
     "name": "stdout",
     "output_type": "stream",
     "text": [
      "[1.e-01 1.e+00 1.e+01 1.e+02 1.e+03 1.e+04 1.e+05 1.e+06]\n"
     ]
    }
   ],
   "source": [
    "alpha_values = np.logspace(-1, 6, 8)\n",
    "print(alpha_values)"
   ]
  },
  {
   "cell_type": "code",
   "execution_count": null,
   "id": "1fb34b62-b99a-43f3-b43c-295e1b35c9db",
   "metadata": {},
   "outputs": [],
   "source": [
    "avg_r2_trains = []\n",
    "avg_r2_vals = []\n",
    "for alpha in alpha_values:\n",
    "    r2_trains = []\n",
    "    r2_vals = []\n",
    "    fold = 1\n",
    "    for train_index, val_index in splitter.split(train):\n",
    "        r2_train, r2_val = fit_and_evaluate_model_with_scaling(\n",
    "            Ridge(alpha=alpha, random_state=RANDOM_SEED),\n",
    "            train.iloc[train_index],\n",
    "            train.iloc[val_index],\n",
    "        )\n",
    "\n",
    "        r2_trains.append(r2_train)\n",
    "        r2_vals.append(r2_val)\n",
    "\n",
    "        fold += 1\n",
    "    avg_r2_trains.append(np.mean(r2_trains))\n",
    "    avg_r2_vals.append(np.mean(r2_vals))"
   ]
  },
  {
   "cell_type": "code",
   "execution_count": null,
   "id": "65273012-d70f-4139-a46f-37500a899ca3",
   "metadata": {},
   "outputs": [],
   "source": [
    "fig, ax = plt.subplots()\n",
    "ax.plot(alpha_values, avg_r2_trains, \"o--\", label=\"Training\")\n",
    "ax.plot(alpha_values, avg_r2_vals, \"o--\", label=\"Validation\")\n",
    "ax.legend(title=\"Dataset\", bbox_to_anchor=(1, 1))\n",
    "ax.set_xlabel(\"$L^{2}$ Regularization Strength ($\\\\alpha$)\")\n",
    "ax.set_title(\"Grid Search $R^{2}$\")\n",
    "ax.semilogx()\n",
    "None"
   ]
  },
  {
   "cell_type": "markdown",
   "id": "af05d9b4-2a3d-4567-8e13-da5f705bdace",
   "metadata": {},
   "source": [
    "# Easy to Tie Yourself Up In Knots\n",
    "\n",
    "- We picked out features in `get_X_y()`\n",
    "- To add the scaler, we had to write a new `fit_and_evaluate_model()` function.\n",
    "- Have to remember to transform test data in the same order as training data.\n",
    "- Remember: _everything_ is the model.\n",
    "\n",
    "# Solution: Pipelines"
   ]
  },
  {
   "cell_type": "code",
   "execution_count": 1,
   "id": "c1dcdd61-e0f0-4d1b-a07e-3c17d1ab9f0c",
   "metadata": {},
   "outputs": [],
   "source": [
    "from sklearn.model_selection import GridSearchCV\n",
    "from sklearn.pipeline import Pipeline"
   ]
  },
  {
   "cell_type": "code",
   "execution_count": 2,
   "id": "d1bc2730-291a-446f-b293-50813a9bd8a4",
   "metadata": {},
   "outputs": [
    {
     "ename": "NameError",
     "evalue": "name 'StandardScaler' is not defined",
     "output_type": "error",
     "traceback": [
      "\u001b[0;31m---------------------------------------------------------------------------\u001b[0m",
      "\u001b[0;31mNameError\u001b[0m                                 Traceback (most recent call last)",
      "Cell \u001b[0;32mIn[2], line 2\u001b[0m\n\u001b[1;32m      1\u001b[0m pipeline \u001b[38;5;241m=\u001b[39m Pipeline(\n\u001b[0;32m----> 2\u001b[0m     [(\u001b[38;5;124m\"\u001b[39m\u001b[38;5;124mscaler\u001b[39m\u001b[38;5;124m\"\u001b[39m, \u001b[43mStandardScaler\u001b[49m()), (\u001b[38;5;124m\"\u001b[39m\u001b[38;5;124mimputer\u001b[39m\u001b[38;5;124m\"\u001b[39m, SimpleImputer()), (\u001b[38;5;124m\"\u001b[39m\u001b[38;5;124mestimator\u001b[39m\u001b[38;5;124m\"\u001b[39m, Ridge())]\n\u001b[1;32m      3\u001b[0m )\n\u001b[1;32m      4\u001b[0m pipeline\n",
      "\u001b[0;31mNameError\u001b[0m: name 'StandardScaler' is not defined"
     ]
    }
   ],
   "source": [
    "pipeline = Pipeline(\n",
    "    [(\"scaler\", StandardScaler()), (\"imputer\", SimpleImputer()), (\"estimator\", Ridge())]\n",
    ")\n",
    "pipeline"
   ]
  },
  {
   "cell_type": "code",
   "execution_count": null,
   "id": "31037d9d-ada7-462a-9432-19c0eae5f7a7",
   "metadata": {},
   "outputs": [],
   "source": [
    "param_grid = {\"estimator__alpha\": alpha_values}\n",
    "grid_search = GridSearchCV(\n",
    "    pipeline, param_grid, cv=5, scoring=\"r2\", return_train_score=True\n",
    ")"
   ]
  },
  {
   "cell_type": "code",
   "execution_count": null,
   "id": "b6207c21-9469-4877-9745-403fc10dedb2",
   "metadata": {},
   "outputs": [],
   "source": [
    "X_train, y_train = get_X_y(train)\n",
    "X_test, y_test = get_X_y(test)"
   ]
  },
  {
   "cell_type": "code",
   "execution_count": null,
   "id": "fd8419d7-fece-4f0f-a328-87fbc6a23193",
   "metadata": {},
   "outputs": [],
   "source": [
    "grid_search = grid_search.fit(X_train, y_train)"
   ]
  },
  {
   "cell_type": "code",
   "execution_count": null,
   "id": "5530a84f-03bb-408d-b5d6-c4e2209e250b",
   "metadata": {},
   "outputs": [],
   "source": [
    "results = pd.DataFrame(grid_search.cv_results_)\n",
    "results"
   ]
  },
  {
   "cell_type": "code",
   "execution_count": null,
   "id": "a1880575-0445-4c1f-9fe4-8d72c6280e9b",
   "metadata": {},
   "outputs": [],
   "source": [
    "ax = results.set_index(\"param_estimator__alpha\")[\n",
    "    [\"mean_train_score\", \"mean_test_score\"]\n",
    "].plot(marker=\"o\", linestyle=\"--\")\n",
    "ax.semilogx()\n",
    "None"
   ]
  },
  {
   "cell_type": "code",
   "execution_count": null,
   "id": "2896326b-c4e8-4f8c-88dd-e5d37bd5156d",
   "metadata": {},
   "outputs": [],
   "source": []
  }
 ],
 "metadata": {
  "kernelspec": {
   "display_name": "Python 3 (ipykernel)",
   "language": "python",
   "name": "python3"
  },
  "language_info": {
   "codemirror_mode": {
    "name": "ipython",
    "version": 3
   },
   "file_extension": ".py",
   "mimetype": "text/x-python",
   "name": "python",
   "nbconvert_exporter": "python",
   "pygments_lexer": "ipython3",
   "version": "3.11.3"
  }
 },
 "nbformat": 4,
 "nbformat_minor": 5
}
